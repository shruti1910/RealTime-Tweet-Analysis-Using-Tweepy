{
 "cells": [
  {
   "cell_type": "markdown",
   "metadata": {},
   "source": [
    "# Real-time Twitter Sentiment Analysis"
   ]
  },
  {
   "cell_type": "markdown",
   "metadata": {},
   "source": [
    "### Import modules\n",
    "    - tweepy: Twitter Python API\n",
    "    - textblob: Text and Sentiment Analysis\n",
    "    - standard library: pickle, re, sys"
   ]
  },
  {
   "cell_type": "code",
   "execution_count": null,
   "metadata": {},
   "outputs": [],
   "source": [
    "import tweepy\n",
    "from textblob import TextBlob\n",
    "import sys\n",
    "import re\n",
    "import pickle"
   ]
  },
  {
   "cell_type": "markdown",
   "metadata": {},
   "source": [
    "---"
   ]
  },
  {
   "cell_type": "markdown",
   "metadata": {},
   "source": [
    "### Twitter Authenetication\n",
    "\n",
    "- https://apps.twitter.com/app/14539435/show\n",
    "- https://apps.twitter.com/app/14539435/keys"
   ]
  },
  {
   "cell_type": "code",
   "execution_count": null,
   "metadata": {},
   "outputs": [],
   "source": [
    "consumer_key = 'Shm6Jmp3gDX706ZGIpjhdvYer'\n",
    "consumer_secret = 'Zr2Ui2mg3AaSEDiaCDNctDvKDnpDrOT7BsbyldnOQxRtzVKvjK'\n",
    "access_token = '937385084126085121-K8VoGlQ7y6KeW6j6Tl3JMfzRKJGOviB'\n",
    "access_token_secret = '2pPtxYEdbgCWBz6HKeJ1tyQ0yZN9xlVp3AmUVGz5y4kQ8'\n",
    "\n",
    "auth = tweepy.OAuthHandler(consumer_key, consumer_secret)\n",
    "auth.set_access_token(access_token, access_token_secret)\n",
    "\n",
    "api = tweepy.API(auth)"
   ]
  },
  {
   "cell_type": "markdown",
   "metadata": {},
   "source": [
    "---"
   ]
  },
  {
   "cell_type": "markdown",
   "metadata": {},
   "source": [
    "### Tweepy Basics"
   ]
  },
  {
   "cell_type": "code",
   "execution_count": 168,
   "metadata": {},
   "outputs": [
    {
     "name": "stdout",
     "output_type": "stream",
     "text": [
      "---------------------------------\n",
      "My Timeline:\n",
      "Hello, San Francisco !\n",
      "Hello, San Jose !\n",
      "hey, another tweet coming from tweepy\n",
      "hello, from tweepy !\n",
      "---------------------------------\n",
      "location: San Francisco, CA\n",
      "followers: 58\n"
     ]
    }
   ],
   "source": [
    "user = api.me()\n",
    "    \n",
    "# update status\n",
    "api.update_status('Hello, San Francisco !')\n",
    "\n",
    "# get list of tweets from one's timeline\n",
    "print \"---------------------------------\"\n",
    "print 'My Timeline:'\n",
    "for tweet in api.user_timeline():\n",
    "    print tweet.text\n",
    "print \"---------------------------------\"\n",
    "\n",
    "# print my location\n",
    "print 'location:', user.location\n",
    "\n",
    "# print the count of my followers\n",
    "print 'followers:', len(api.friends_ids())"
   ]
  },
  {
   "cell_type": "markdown",
   "metadata": {},
   "source": [
    "---"
   ]
  },
  {
   "cell_type": "markdown",
   "metadata": {},
   "source": [
    "### Sentiment Analysis using textblob\n",
    "\n",
    "\n",
    "> _text = \"Wow, Bitcoin prices really soared up this morning !\"_\n",
    "\n",
    "```\n",
    "analysis = TextBlob(text)\n",
    "> print analysis.sentiment\n",
    "Sentiment(polarity=0.6, subjectivity=1.0)```\n",
    "\n",
    "```\n",
    "> print analysis.sentiment.polarity\n",
    "0.6```"
   ]
  },
  {
   "cell_type": "code",
   "execution_count": 169,
   "metadata": {},
   "outputs": [
    {
     "name": "stdout",
     "output_type": "stream",
     "text": [
      "1.0\n",
      "0.0\n",
      "-0.7\n"
     ]
    }
   ],
   "source": [
    "print TextBlob('This has been a wonderful day !').sentiment.polarity\n",
    "print TextBlob('My phone broke yesterday.').sentiment.polarity\n",
    "print TextBlob('Pizza from that place are awfully bad').sentiment.polarity"
   ]
  },
  {
   "cell_type": "markdown",
   "metadata": {},
   "source": [
    "### Twitter Analyser\n",
    "\n",
    "call NTLK library using:\n",
    "``` analysis = TextBlob(text)\n",
    "analysis.sentiment.polarity is the score in the range [-1,-1]```"
   ]
  },
  {
   "cell_type": "code",
   "execution_count": null,
   "metadata": {},
   "outputs": [],
   "source": [
    "class TweetAnalyser(object):\n",
    "    def __init__(self):\n",
    "        pass\n",
    "    \n",
    "    def clean_tweet(self, tweet):\n",
    "        tweet = tweet.text\n",
    "        cleaned_tweet = ' '.join(re.sub(\"(@[A-Za-z0-9]+)|([^0-9A-Za-z \\t])|(\\w+:\\/\\/\\S+)\", \" \", tweet).split())\n",
    "        cleaned_tweet = cleaned_tweet.encode('utf-8')\n",
    "        return cleaned_tweet\n",
    "\n",
    "    def get_sentiment_score(self, tweet):\n",
    "        text = self.clean_tweet(tweet)\n",
    "        analysis = TextBlob(text)\n",
    "        return round(analysis.sentiment.polarity, 3)"
   ]
  },
  {
   "cell_type": "markdown",
   "metadata": {},
   "source": [
    "---"
   ]
  },
  {
   "cell_type": "markdown",
   "metadata": {},
   "source": [
    "# Streaming Twitter Data"
   ]
  },
  {
   "cell_type": "markdown",
   "metadata": {},
   "source": [
    "### Tweepy Search Tweets\n",
    "\n",
    "---\n",
    "#### Sample data for a tweet:\n",
    "```\n",
    "created_at: 2017-12-09 03:45:24\n",
    "geo: None\n",
    "id: 939340175846625280\n",
    "lang: en\n",
    "place: None\n",
    "text: @Garurusama Take out payday loans and use them to buy bitcoin\n",
    "```\n",
    "\n",
    "\n",
    "---\n",
    "### Search for tweets on a particular topic\n",
    "```tweets = tweepy.Cursor(api.search, q='Bitcoin', lang='en').items(max_count)```\n",
    "\n",
    "\n",
    "```API.search(q[, lang][, locale][, rpp][, page][, since_id][, geocode][, show_user])```\n",
    "\n",
    "Returns tweets that match a specified query.\n",
    "\n",
    "---\n",
    "#### Parameters:\t\n",
    "- `q` – the search query string\n",
    "- `lang` – Restricts tweets to the given language, given by an ISO 639-1 code.\n",
    "- `locale` – Specify the language of the query you are sending. This is intended for language-specific clients and the default should work in the majority of cases.\n",
    "- `rpp` – The number of tweets to return per page, up to a max of 100.\n",
    "- `page` – The page number (starting at 1) to return, up to a max of roughly 1500 results (based on rpp * page.\n",
    "- `since_id` – Returns only statuses with an ID greater than (that is, more recent than) the specified ID.\n",
    "- `geocode` – Returns tweets by users located within a given radius of the given latitude/longitude. The location is preferentially taking from the Geotagging API, but will fall back to their Twitter profile. The parameter value is specified by “latitide,longitude,radius”, where radius units must be specified as either “mi” (miles) or “km” (kilometers). Note that you cannot use the near operator via the API to geocode arbitrary locations; however you can use this geocode parameter to search near geocodes directly.\n",
    "- `show_user` – When true, prepends “<user>:” to the beginning of the tweet. This is useful for readers that do not display Atom’s author field. The default is false.\n",
    "```\n"
   ]
  },
  {
   "cell_type": "code",
   "execution_count": null,
   "metadata": {},
   "outputs": [],
   "source": [
    "max_count = 1\n",
    "tweets = tweepy.Cursor(api.search, q='Bitcoin', lang='en').items(max_count)\n",
    "\n",
    "for data in tweets:\n",
    "    print 'created_at:', data.created_at\n",
    "    print 'geo:', data.geo\n",
    "    print 'id:', data.id\n",
    "    print 'lang:', data.lang\n",
    "    print 'place:', data.place\n",
    "    print 'text:', data.text"
   ]
  },
  {
   "cell_type": "markdown",
   "metadata": {},
   "source": [
    "### Stream Listener"
   ]
  },
  {
   "cell_type": "code",
   "execution_count": 172,
   "metadata": {},
   "outputs": [],
   "source": [
    "GEOBOX_WORLD = [-180,-90,180,90]\n",
    "\n",
    "class CustomListener(tweepy.StreamListener):\n",
    "    MAX_COUNT = 1000\n",
    "    \n",
    "    def __init__(self, api):\n",
    "        self.api = api\n",
    "        self.num_tweets = 0\n",
    "        self.tweet_analyzer = TweetAnalyser()\n",
    "        \n",
    "        self.results = []\n",
    "\n",
    "    def on_status(self, tweet):\n",
    "        \"\"\"\n",
    "        Called when raw data is received from connection.\n",
    "        Override this method if you wish to manually handle\n",
    "        the stream data. Return False to stop stream and close connection.\n",
    "        \"\"\"\n",
    "        \n",
    "        data = {} # initialize empty dictionary\n",
    "        \n",
    "        # consider tweets only if they have geo locations\n",
    "        if tweet.coordinates is not None:\n",
    "            # and 'bitcoin' in tweet.text\n",
    "            \n",
    "            data['text'] = tweet.text # extract tweet's content\n",
    "            data['coordinates'] = tweet.coordinates['coordinates'] # add coordinate to date\n",
    "            data['score'] = self.tweet_analyzer.get_sentiment_score(tweet) # calculate sentiment score\n",
    "            \n",
    "            self.num_tweets += 1\n",
    "            if self.num_tweets > self.MAX_COUNT:\n",
    "                return False\n",
    "\n",
    "            print data['text']\n",
    "            print data['coordinates']\n",
    "            self.results.append(data)            \n",
    "\n",
    "    # error handling\n",
    "    def on_error(self, status):\n",
    "        \"\"\"Called when a non-200 status code is returned\"\"\"\n",
    "        \n",
    "        print >> sys.stderr, 'Error: ', status\n",
    "        return True\n",
    "    \n",
    "    # error handling\n",
    "    def on_timeout(self):\n",
    "        \"\"\"Called when stream connection times out\"\"\"\n",
    "        \n",
    "        print >> sys.stderr, 'Stream timeout'\n",
    "        return True"
   ]
  },
  {
   "cell_type": "markdown",
   "metadata": {},
   "source": [
    "### Start Twitter Streaming"
   ]
  },
  {
   "cell_type": "code",
   "execution_count": null,
   "metadata": {},
   "outputs": [],
   "source": [
    "GEOBOX_WORLD = [-180,-90,180,90]\n",
    "GEOBOX_UNITED_STATES = [120,50,70,30]\n",
    "\n",
    "US_LEFT = -124.804\n",
    "US_RIGHT = -83.58\n",
    "US_TOP = 47.541\n",
    "US_BOTTOM = 31.608\n",
    "SOUTH_WEST = [US_BOTTOM, US_BOTTOM]\n",
    "NORTH_EAST = [US_RIGHT, US_TOP]\n",
    "\n",
    "GEOBOX_UNITED_STATES = SOUTH_WEST + NORTH_EAST\n",
    "\n",
    "customer_listener = CustomListener(api)\n",
    "listener = tweepy.Stream(auth, customer_listener)\n",
    "# listener.filter(track=['Bitcoin'])\n",
    "listener.filter(locations=GEOBOX_WORLD)\n",
    "\n",
    "# print customer_listener.results\n"
   ]
  },
  {
   "cell_type": "markdown",
   "metadata": {},
   "source": [
    "---"
   ]
  },
  {
   "cell_type": "markdown",
   "metadata": {},
   "source": [
    "### Pickle Results for processing\n"
   ]
  },
  {
   "cell_type": "markdown",
   "metadata": {},
   "source": [
    "#### Load data from pickled object"
   ]
  },
  {
   "cell_type": "code",
   "execution_count": null,
   "metadata": {
    "collapsed": true
   },
   "outputs": [],
   "source": [
    "bitcoin_data = pickle.load(open('bitcoin_data.pickle', 'rb'))"
   ]
  },
  {
   "cell_type": "markdown",
   "metadata": {},
   "source": [
    "## Average User Sentiment\n",
    "<h1 align='center'>\n",
    "<font color='green'>-0.024367</font>\n",
    "</h1>"
   ]
  },
  {
   "cell_type": "code",
   "execution_count": null,
   "metadata": {},
   "outputs": [],
   "source": [
    "total_score = 0.0\n",
    "for data in bitcoin_data:\n",
    "    total_score += data['score']\n",
    "\n",
    "average_score = total_score / len(bitcoin_data)\n",
    "print average_score"
   ]
  },
  {
   "cell_type": "markdown",
   "metadata": {},
   "source": [
    "---"
   ]
  },
  {
   "cell_type": "markdown",
   "metadata": {},
   "source": [
    "## Folium Maps\n",
    "\n",
    "Folium makes it easy to visualize data that’s been manipulated in Python on an interactive `Leaflet` map. It enables both the binding of data to a map for choropleth visualizations as well as passing `Vincent/Vega visualizations` as markers on the map.\n",
    "\n",
    "The library has a number of built-in tilesets from `OpenStreetMap`, `Mapbox`, and `Stamen`, and supports custom tilesets with Mapbox or Cloudmade API keys. Folium supports both `GeoJSON` and `TopoJSON` overlays, as well as the binding of data to those overlays to create choropleth maps with color-brewer color schemes.\n",
    "\n",
    "```Documentation: http://folium.readthedocs.io/en/latest/quickstart.html```"
   ]
  },
  {
   "cell_type": "code",
   "execution_count": null,
   "metadata": {},
   "outputs": [],
   "source": [
    "import folium\n",
    "\n",
    "m = folium.Map(location=[38, -102], zoom_start=4)\n",
    "m"
   ]
  },
  {
   "cell_type": "markdown",
   "metadata": {},
   "source": [
    "### Add locations to the map\n",
    "\n",
    "We start by creating an instance of `folium.Map` object, specifying `centre` of the map as [latitude, longiture], followed by `zoom`\n",
    "\n",
    "```\n",
    "folium.Marker([45.3288, -121.6625], \n",
    "              popup='Mt. Hood Meadows', \n",
    "              icon=folium.Icon(color='green')).add_to(m)\n",
    "first param : list of [latitude, longitude]\n",
    "second param: @popup tool_tip name (set to the tweet text)\n",
    "third param : icon color\n",
    "```"
   ]
  },
  {
   "cell_type": "code",
   "execution_count": 173,
   "metadata": {},
   "outputs": [
    {
     "data": {
      "text/html": [
       "<div style=\"width:100%;\"><div style=\"position:relative;width:100%;height:0;padding-bottom:60%;\"><iframe src=\"data:text/html;charset=utf-8;base64,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\" style=\"position:absolute;width:100%;height:100%;left:0;top:0;border:none !important;\" allowfullscreen webkitallowfullscreen mozallowfullscreen></iframe></div></div>"
      ],
      "text/plain": [
       "<folium.folium.Map at 0x11831dbd0>"
      ]
     },
     "execution_count": 173,
     "metadata": {},
     "output_type": "execute_result"
    }
   ],
   "source": [
    "m = folium.Map(location=[38, -102], \n",
    "               tiles='Mapbox Bright', \n",
    "               zoom_start=4)\n",
    "\n",
    "folium.Marker([45.3288, -121.6625], \n",
    "              popup='Hello there from Oregon !', \n",
    "              icon=folium.Icon(color='green')).add_to(m)\n",
    "folium.Marker([47.3288, -115.6625], \n",
    "              popup='Its too cold out here !!', \n",
    "              icon=folium.Icon(color='blue')).add_to(m)\n",
    "folium.Marker([40.3288, -90.6625], \n",
    "              popup='Chicago, here I come :)', \n",
    "              icon=folium.Icon(color='red')).add_to(m)\n",
    "m"
   ]
  },
  {
   "cell_type": "code",
   "execution_count": 181,
   "metadata": {
    "scrolled": false
   },
   "outputs": [
    {
     "data": {
      "text/html": [
       "<div style=\"width:100%;\"><div style=\"position:relative;width:100%;height:0;padding-bottom:60%;\"><iframe src=\"data:text/html;charset=utf-8;base64,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\" style=\"position:absolute;width:100%;height:100%;left:0;top:0;border:none !important;\" allowfullscreen webkitallowfullscreen mozallowfullscreen></iframe></div></div>"
      ],
      "text/plain": [
       "<folium.folium.Map at 0x11c07ef90>"
      ]
     },
     "execution_count": 181,
     "metadata": {},
     "output_type": "execute_result"
    }
   ],
   "source": [
    "m = folium.Map(location=[38, -102], zoom_start=4)\n",
    "\n",
    "bitcoin_data = pickle.load(open('bitcoin_data.pickle', 'rb'))\n",
    "\n",
    "# get a sample from the data to put them on map\n",
    "sample_list = []\n",
    "sample_size = 10\n",
    "from random import randint\n",
    "for _ in range(sample_size):\n",
    "    index = randint(0, len(bitcoin_data))\n",
    "    sample_list.append(bitcoin_data[index])\n",
    "\n",
    "# plot the locations on the map, with color coded sentiments, \n",
    "# and tweet's text as the popup\n",
    "for data in sample_list:\n",
    "    \n",
    "    score = data['score']\n",
    "    if score < 0:\n",
    "        color = 'red'\n",
    "    elif score > 0:\n",
    "        color = 'green'\n",
    "    else:\n",
    "        color = 'blue'\n",
    "    \n",
    "    folium.Marker(data['location'], \n",
    "              popup=data['text'], \n",
    "              icon=folium.Icon(color=color)).add_to(m)\n",
    "#     print data['location']\n",
    "    \n",
    "m"
   ]
  },
  {
   "cell_type": "markdown",
   "metadata": {},
   "source": [
    "## References\n",
    "---\n",
    "#### Tweepy\n",
    "    - `github`: https://github.com/tweepy/tweepy\n",
    "    - `searchAPI`: http://docs.tweepy.org/en/v3.5.0/api.html#API.search\n",
    "    - `me`: http://docs.tweepy.org/en/v3.5.0/api.html#API.me\n",
    "    - `streaming code`: https://github.com/tweepy/tweepy/blob/master/tweepy/streaming.py\n",
    "    - `StreamListener`: https://github.com/tweepy/tweepy/blob/master/tweepy/streaming.py#L31\n",
    "    - `filter`: https://github.com/tweepy/tweepy/blob/master/tweepy/streaming.py#L31\n",
    "    - `on_status`: https://github.com/tweepy/tweepy/blob/master/tweepy/streaming.py#L45\n",
    "\n",
    "---\n",
    "#### TextBlob \n",
    "    - http://textblob.readthedocs.io/en/dev/\n",
    "\n",
    "---\n",
    "#### Folium\n",
    "    - Github: https://github.com/python-visualization/folium\n",
    "    - Documentation: http://python-visualization.github.io/folium/\n",
    "---\n",
    "#### Pickle\n",
    "    - Documentation: https://docs.python.org/2/library/pickle.html\n",
    "---\n",
    "#### Cleaning Tweets\n",
    "    - reference: https://dev.to/rodolfoferro/sentiment-analysis-on-trumpss-tweets-using-python-\n"
   ]
  },
  {
   "cell_type": "code",
   "execution_count": null,
   "metadata": {},
   "outputs": [],
   "source": []
  }
 ],
 "metadata": {
  "kernelspec": {
   "display_name": "Python 2",
   "language": "python",
   "name": "python2"
  },
  "language_info": {
   "codemirror_mode": {
    "name": "ipython",
    "version": 2
   },
   "file_extension": ".py",
   "mimetype": "text/x-python",
   "name": "python",
   "nbconvert_exporter": "python",
   "pygments_lexer": "ipython2",
   "version": "2.7.10"
  }
 },
 "nbformat": 4,
 "nbformat_minor": 2
}
